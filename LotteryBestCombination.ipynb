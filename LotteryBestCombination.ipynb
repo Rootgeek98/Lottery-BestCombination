{
 "metadata": {
  "name": "",
  "signature": "sha256:3815ec7ef7e76b9192e5b09d8f8a257a8185db47a2b5de7256306446f0f7f04e"
 },
 "nbformat": 3,
 "nbformat_minor": 0,
 "worksheets": [
  {
   "cells": [
    {
     "cell_type": "markdown",
     "metadata": {},
     "source": [
      "<h1 align=\"center\">How to choose your lottery numbers ?\n",
      "![I don't always...](http://i.imgur.com/gXQCU3H.png)\n",
      "</h1>\n"
     ]
    },
    {
     "cell_type": "markdown",
     "metadata": {},
     "source": [
      "\n",
      "\n",
      "# Overview\n",
      "\n",
      "### Goal\n",
      "\n",
      "\n",
      "If you play at the lottery the same combination as many others players, you will have to split the prize in case of winning.\n",
      "\n",
      "\n",
      "The goal of this analysis is to reduce this risk by playing the less played combination.\n",
      "\n",
      "### How ?\n",
      "\n",
      "The idea is to analyze the results of the past draws: numbers drawn and proportion of winners \n",
      "\n",
      "Each result can ben seen as a tiny clue: if there is more winners than usual when the draw is [1 12 14 22 32], we can deduce this combination is often played.\n",
      "### Context\n",
      "\n",
      "This analysis has been inspired by [OneWinner.me](http://www.onewinner.me/fr/faq-fr.html) and [Using ML To Pick Your Lottery Numbers](http://nbviewer.ipython.org/url/www.onewinner.me/en/devoxxML.ipynb) of [Christophe Bourguignat](https://twitter.com/chris_bour).\n",
      "\n",
      "The goal is the same but the approach is different. Instead of using crowdsourcing, we'll analyse past draws results.\n",
      "\n",
      "# Illustrative example\n",
      "\n",
      "An introductive example explaining the methodology is available on [GitHub](https://github.com/StephaneFeniar/Lottery-BestCombination/blob/master/README.md)\n",
      "\n",
      "This lecture is highly recommended if you're not familliar with lottery numbers analyses.\n",
      "\n",
      "# Application to a real lottery: EuroMillions\n",
      "\n",
      "<img src=\"http://i.imgur.com/bIOUoRB.png\" alt=\"Let's pick the best numbers\" align=\"left\">\n",
      "<br/><br/><br/><br/><br/><br/><br/><br/>\n",
      "\n",
      "Euromillions consist of picking 5 numbers among 50 + 2 stars among 10 stars.\n",
      "\n",
      "**We'll focus on the 5 numbers** in order to keep this analysis comparable to [Using ML To Pick Your Lottery Numbers](http://nbviewer.ipython.org/url/www.onewinner.me/en/devoxxML.ipynb).\n",
      "\n",
      "### 1. Data Import\n",
      "\n",
      "After each draw, the EuroMillions organizers communicate publicly the results:\n",
      "\n",
      "*  N1, N2, N3 , N4, N5 : 5 numbers of the draw *(in an ascending order)*\n",
      "*  Number of tickets on each winning rank:\n",
      "  + Rank1:   5 matches & 2  good stars\n",
      "  + Rank2:   5 matches & 1  good star\n",
      "  + Rank3:   5 matches & 0  good star\n",
      "  + Rank4:   4 matches & 2  good stars\n",
      "  + Rank5:   4 matches & 1  good star\n",
      "  + Rank6:   4 matches & 0  good star\n",
      "  + Rank7:   3 matches & 2  good stars\n",
      "  + Rank9:   3 matches & 1  good star\n",
      "  + Rank10:  3 matches & 0  good star\n",
      "  + Rank8:   2   matches & 2  good stars\n",
      "  + Rank12:  2   matches & 1  good star\n",
      "  + Rank11:  1  match & 2  good stars\n",
      "* Number of Tickets: total number of tickets played *(no matter the number of matches and/or good stars)*\n",
      "\n",
      "**We will study the results of the last 300 past draws** *(which happened after the changes of May 2011)*"
     ]
    },
    {
     "cell_type": "code",
     "collapsed": false,
     "input": [
      "#Import modules\n",
      "import os\n",
      "import numpy as np\n",
      "import pandas as pd\n",
      "\n",
      "#Working directory\n",
      "os.chdir('C:/Users/St\u00e9phane/Documents/Euromillions')\n",
      "os.getcwd()\n",
      "\n",
      "# Data import\n",
      "Draws=pd.read_csv('euromillions_results_300_draws.csv', sep=';')\n",
      "print(Draws.head(5))"
     ],
     "language": "python",
     "metadata": {},
     "outputs": [
      {
       "output_type": "stream",
       "stream": "stdout",
       "text": [
        "   DRAW_ID  N1  N2  N3  N4  N5  RANK1  RANK2  RANK3  RANK4  RANK5  RANK6  \\\n",
        "0        1   2  14  21  36  46      0      0      7     34    615   1215   \n",
        "1        2  13  25  32  38  46      2      3     13     43    976   2515   \n",
        "2        3   1   6  13  17  26      0      6     11     98   1334   2298   \n",
        "3        4  10  13  20  33  41      0      5     10     88   1619   3041   \n",
        "4        5  10  15  17  40  45      1      2      7     37    728   1488   \n",
        "\n",
        "   RANK7  RANK8  RANK9  RANK10  RANK11  RANK12  NB_TICKETS  \n",
        "0   1340  20089  27820   56355  109548  411040    20418538  \n",
        "1   1874  28407  41816  102769  151524  610112    33768050  \n",
        "2   3520  44519  50062   84941  206660  624396    22520918  \n",
        "3   4207  59447  65557  122853  287234  911202    37061903  \n",
        "4   1552  24674  32263   65960  128733  504141    23174733  \n",
        "\n",
        "[5 rows x 19 columns]\n"
       ]
      }
     ],
     "prompt_number": 2
    },
    {
     "cell_type": "markdown",
     "metadata": {},
     "source": [
      "### 2. Data Munging\n",
      "\n",
      "Since we decided to focus on the numbers and not on the stars, we need to aggregate all the ranks associated to the same level of correct numbers *(matches)*.\n",
      "\n",
      "**Problem:** the numbers of tickets per winning rank are not sufficient to compute the number of players with 2,1 or 0 match. \n",
      "\n",
      "For instance we can't compute the total number of tickets with 2 matches without the number of tickets with 2 matches & 0 star *(unknown because no prize associated to this result)*.\n",
      "\n",
      "Hopefully we can estimate these numbers by using the [Winning Probability](http://en.wikipedia.org/wiki/EuroMillions#Prize_structure):\n",
      "\n",
      "* 2   matches & 0 good star : can be estimated as twice the number of players in the Rank12 \n",
      "* 1   match & 1 good star : can be estimated as 18 times the number of players in the Rank11\n",
      "* 1   match & 0 good star : : can be estimated as 36 times the number of players in the Rank11 \n",
      "* 0   match (no matter the number of good star) : can be estimated as the total number of players - the number of player with at least 1 match.\n",
      "  \n",
      "*A better estimation mechanism could be used  ([See Next-Steps](https://github.com/StephaneFeniar/Lottery-BestCombination/blob/master/README.md#next-steps))*"
     ]
    },
    {
     "cell_type": "code",
     "collapsed": false,
     "input": [
      "### Data Munging \n",
      "\n",
      "Grid=range(1,51,1)\n",
      "Combinations = array(list(combinations(Grid, 5)), dtype=np.int8)\n",
      "\n",
      "# Compute for each draw, the number of tickets for each number of matches\n",
      "Draws['NB_TICKETS_5_MATCHES'] = Draws['RANK1'] + Draws['RANK2'] + Draws['RANK3']\n",
      "Draws['NB_TICKETS_4_MATCHES'] = Draws['RANK4'] + Draws['RANK5'] + Draws['RANK6']\n",
      "Draws['NB_TICKETS_3_MATCHES'] = Draws['RANK7'] + Draws['RANK9'] + Draws['RANK10']\n",
      "Draws['NB_TICKETS_2_MATCHES'] = Draws['RANK8'] + Draws['RANK12'] + 2 * Draws['RANK12']\n",
      "Draws['NB_TICKETS_1_MATCH'] = Draws['RANK11'] + 18 * Draws['RANK11'] + 36 * Draws['RANK11']\n",
      "Draws['NB_TICKETS_0_MATCH'] = Draws['NB_TICKETS'] - Draws['NB_TICKETS_5_MATCHES'] - Draws['NB_TICKETS_4_MATCHES'] - Draws['NB_TICKETS_3_MATCHES'] -Draws['NB_TICKETS_2_MATCHES'] - Draws['NB_TICKETS_1_MATCH']\n",
      "\n",
      "\n",
      "# Replace the numbers by frequencies in order to have comparable draws.\n",
      "Draws['FREQ_TICKETS_5_MATCHES'] = Draws['NB_TICKETS_5_MATCHES'] / Draws['NB_TICKETS']\n",
      "Draws['FREQ_TICKETS_4_MATCHES'] = Draws['NB_TICKETS_4_MATCHES'] / Draws['NB_TICKETS']\n",
      "Draws['FREQ_TICKETS_3_MATCHES'] = Draws['NB_TICKETS_3_MATCHES'] / Draws['NB_TICKETS']\n",
      "Draws['FREQ_TICKETS_2_MATCHES'] = Draws['NB_TICKETS_2_MATCHES'] / Draws['NB_TICKETS']\n",
      "Draws['FREQ_TICKETS_1_MATCH'] = Draws['NB_TICKETS_1_MATCH'] / Draws['NB_TICKETS']\n",
      "Draws['FREQ_TICKETS_0_MATCH'] = Draws['NB_TICKETS_0_MATCH'] / Draws['NB_TICKETS']"
     ],
     "language": "python",
     "metadata": {},
     "outputs": [],
     "prompt_number": 4
    },
    {
     "cell_type": "markdown",
     "metadata": {},
     "source": [
      "### 3. Compute the number of matches between each Draw and each Combination\n",
      "\n",
      "Before estimating the playing frequency of each combination, we need to compute the number of match between each draw and each combination.\n",
      "\n",
      "Instead of directly compare each vectors of DrawsNumbers with each row of Combination,s we're gonna convert them to sparse vectors and take the matrix product."
     ]
    },
    {
     "cell_type": "code",
     "collapsed": false,
     "input": [
      "DrawsNumbers = array(Draws[['N1', 'N2', 'N3', 'N4', 'N5']], dtype=int8)\n",
      "\n",
      "nb_draws = DrawsNumbers.shape[0]\n",
      "nb_combinations = Combinations.shape[0]\n",
      "\n",
      "DrawsNumbersSparse = np.zeros([nb_draws, 50 ], dtype=int8)\n",
      "DrawsNumbersSparse[np.arange(nb_draws)[:,newaxis],DrawsNumbers-1] = 1\n",
      "\n",
      "print(\"Example of transformation:\")\n",
      "print(\"Original Version:\", DrawsNumbers[0])\n",
      "print(\"Sparse Version:\", DrawsNumbersSparse[0])\n",
      "\n",
      "CombinationsSparse = np.zeros([nb_combinations, 50 ], dtype=int8)\n",
      "CombinationsSparse[np.arange(nb_combinations)[:,newaxis],Combinations-1] = 1\n",
      "\n",
      "Matches = dot(CombinationsSparse, DrawsNumbersSparse.T )\n",
      "del CombinationsSparse\n"
     ],
     "language": "python",
     "metadata": {},
     "outputs": [
      {
       "output_type": "stream",
       "stream": "stdout",
       "text": [
        "Example of transformation:\n",
        "Original Version: [ 2 14 21 36 46]\n",
        "Sparse Version: [0 1 0 0 0 0 0 0 0 0 0 0 0 1 0 0 0 0 0 0 1 0 0 0 0 0 0 0 0 0 0 0 0 0 0 1 0\n",
        " 0 0 0 0 0 0 0 0 1 0 0 0 0]\n"
       ]
      }
     ],
     "prompt_number": 5
    },
    {
     "cell_type": "markdown",
     "metadata": {},
     "source": [
      "### 4. Estimations of the playing frequency of each combination\n",
      "\n",
      "Now, we know for each draw:\n",
      "\n",
      "* the frequency of tickets with 0, 1, 2, 3, 4, 5 matches\n",
      "* the number of matches with each of the 2 118 760 possible combinations\n",
      "\n",
      "For estimating the playing frequency of each combination we need to split the frequency of tickets with **m** matches through all the combinations having **m** matches with the draw.\n",
      "\n",
      "No matter the draw, the number of combination with *m* matched  = $\\binom{45}{5-m} \\times \\binom{m}{5}$\n",
      "\n",
      "\n",
      "Then we know for each draw there is:\n",
      "\n",
      "* 1 combination having 5 matches \n",
      "* 225 combinations having 4  matches \n",
      "* 9 900 combinations having 3 matches \n",
      "* 141 900 combinations having 2 matches \n",
      "* 749 975 combinations having 1 match \n",
      "* 1 221 759 combinations having 0 match\n",
      "\n",
      "So for each draw we will estimate the:\n",
      "\n",
      "*  Playing frequency of each combination with 0 match = Frequency of tickets with 0 match / 1221759 \n",
      "*  Playing frequency of each combination with 1 match = Frequency of tickets with 1 match / 749975\n",
      "*  Playing frequency of each combination with 2 matches = Frequency of tickets with 2 matches / 141900\n",
      "*  Playing frequency of each combination with 3 matches = Frequency of tickets with 3 matches / 9900\n",
      "*  Playing frequency of each combination with 4 matches = Frequency of tickets with 4 matches / 225\n",
      "*  Playing frequency of each combination with 5 matches = Frequency of tickets with 5 matches / 1"
     ]
    },
    {
     "cell_type": "code",
     "collapsed": false,
     "input": [
      "# Divide the frequency of tickets with m matches by the number combinations having m matches (= \\binom{45}{5-m} \\times \\binom{m}{5})\n",
      "Draws['FREQ_COMB_0'] = Draws['FREQ_TICKETS_0_MATCH'] / 1221759\n",
      "Draws['FREQ_COMB_1'] = Draws['FREQ_TICKETS_1_MATCH'] / 744975\n",
      "Draws['FREQ_COMB_2'] = Draws['FREQ_TICKETS_2_MATCHES'] / 141900\n",
      "Draws['FREQ_COMB_3'] = Draws['FREQ_TICKETS_3_MATCHES'] / 9900\n",
      "Draws['FREQ_COMB_4'] = Draws['FREQ_TICKETS_4_MATCHES'] / 225\n",
      "Draws['FREQ_COMB_5'] = Draws['FREQ_TICKETS_5_MATCHES'] / 1\n",
      "\n",
      "DrawsCombFrequency = array(Draws[['FREQ_COMB_0',\n",
      "                                  'FREQ_COMB_1', \n",
      "                                  'FREQ_COMB_2', \n",
      "                                  'FREQ_COMB_3', \n",
      "                                  'FREQ_COMB_4',\n",
      "                                  'FREQ_COMB_5']])\n",
      "\n",
      "\n",
      "def ComputePlayingFrequency(DrawsCombFrequency, Matches):\n",
      "    \"\"\"Compute for each draw, the estimated playing frequency of each combination based on\n",
      "    the number of matches and the associated DrawCombFrequency\n",
      "    \"\"\"\n",
      "    PlayingFrequency = np.zeros([Matches.shape[0], Matches.shape[1]])\n",
      "    for i in range(0, Matches.shape[1]):\n",
      "        PlayingFrequency[:,i]=DrawsCombFrequency[i, Matches[:,i]]\n",
      "    return PlayingFrequency\n",
      "\n",
      "PlayingFrequency = ComputePlayingFrequency(DrawsCombFrequency, Matches)"
     ],
     "language": "python",
     "metadata": {},
     "outputs": [],
     "prompt_number": 7
    },
    {
     "cell_type": "markdown",
     "metadata": {},
     "source": [
      "### 5. Aggregation of the estimations\n",
      "\n",
      "\n",
      "Each of the 300 draws gives an estimated playing frequency for each combination.\n",
      "Let's aggregate these 300 estimators into a stronger one like a RandomForest aggregates trees.\n",
      "\n",
      "There are a several way to aggregate these 300 estimators *([See Next-Steps](https://github.com/StephaneFeniar/Lottery-BestCombination/blob/master/README.md#next-steps))*  but here we will do it  by a simple mean.\n"
     ]
    },
    {
     "cell_type": "code",
     "collapsed": false,
     "input": [
      "AggregatedPlayingFrequency = np.mean(PlayingFrequency, axis=1)"
     ],
     "language": "python",
     "metadata": {},
     "outputs": [],
     "prompt_number": 8
    },
    {
     "cell_type": "markdown",
     "metadata": {},
     "source": [
      "### 6. Results analysis\n",
      "\n",
      "Let's take a look at the most played and less played combinations."
     ]
    },
    {
     "cell_type": "code",
     "collapsed": false,
     "input": [
      "print('Less played combination', Combinations [ argmin(AggregatedPlayingFrequency),], '- Frequency:', min(AggregatedPlayingFrequency))\n",
      "print('Most played combination', Combinations [ argmax(AggregatedPlayingFrequency),], '- Frequency:', max(AggregatedPlayingFrequency))\n",
      "print('Ratio:', min(AggregatedPlayingFrequency)/max(AggregatedPlayingFrequency))\n",
      "\n",
      "less_played_combination_estimations = PlayingFrequency[argmin(AggregatedPlayingFrequency),]\n",
      "most_played_combination_estimations = PlayingFrequency[argmax(AggregatedPlayingFrequency),]\n",
      "extreme_combinations_estimations = np.column_stack((less_played_combination_estimations, most_played_combination_estimations))\n",
      "\n",
      "# Boxplot\n",
      "figure()\n",
      "title('Distribution of the estimated played frequency for the less & most played combination')\n",
      "boxplot(extreme_combinations_estimations, 0, 'rs', 0)\n",
      "yticks([1, 2], ['Less Played Combination', 'Most Played Combination'])\n"
     ],
     "language": "python",
     "metadata": {},
     "outputs": [
      {
       "output_type": "stream",
       "stream": "stdout",
       "text": [
        "Less played combination [14 20 41 45 49] - Frequency: 4.47408250418e-07\n",
        "Most played combination"
       ]
      },
      {
       "output_type": "stream",
       "stream": "stdout",
       "text": [
        " [ 7 13 19 22 24] - Frequency: 4.99319424129e-07\n",
        "Ratio:"
       ]
      },
      {
       "output_type": "stream",
       "stream": "stdout",
       "text": [
        " 0.896036141992\n"
       ]
      },
      {
       "metadata": {},
       "output_type": "pyout",
       "prompt_number": 9,
       "text": [
        "([<matplotlib.axis.YTick at 0x5cfdc18>, <matplotlib.axis.YTick at 0x16f16be0>],\n",
        " <a list of 2 Text yticklabel objects>)"
       ]
      },
      {
       "metadata": {},
       "output_type": "display_data",
       "png": "[encoded data removed]",
       "text": [
        "<matplotlib.figure.Figure at 0x6b07eb8>"
       ]
      }
     ],
     "prompt_number": 9
    },
    {
     "cell_type": "markdown",
     "metadata": {},
     "source": [
      "So playing [14 20 41 45 49] instead of [ 7 13 19 22 24] **reduce the risk** of sharing the winning **by 10% !**\n",
      "\n",
      "We can notice the most played combination [ 7 13 19 22 24] includes:\n",
      "\n",
      "* only numbers <30 which could be associated to days numbers.\n",
      "* numbers which are close on the grid.\n",
      "* the [number 13](http://en.wikipedia.org/wiki/13_%28number%29#Lucky_and_unlucky).\n"
     ]
    },
    {
     "cell_type": "markdown",
     "metadata": {},
     "source": [
      "# Conclusion & Next Steps\n",
      "\n",
      "**This simple analysis** identifies the less played combination *[14 20 41 45 49]* and **reduces the risk of sharing the winning up to 10%!**\n",
      "\n",
      "We could go further by :\n",
      "\n",
      "*  **Improving the way to aggregate the estimations.** \n",
      "<br/>Example: if a combination has 5 matches with a draw, we should only keep the estimation associated to this draw.\n",
      "\n",
      "\n",
      "*  **Performing the analysis in a recursive way:**\n",
      "  1. Do the analysis like we did and recover an estimated  playing frequency for each combination.\n",
      "  2. Re-do the analysis by using this distribution instead of an equal distribution for improving the way to \"split the frequency of tickets with m matches to all the combinations having m matches\" \n",
      "\n",
      "\n",
      "*  **Improving the approach by optimizing the global expected winnings.**\n",
      "<br/> Rather than just reduce the risk of sharing the big prize, we could reduce the risk of sharing all prizes by searching a combination which is rarely played and doesn't shared a lots of numbers with most played combinations.\n"
     ]
    }
   ],
   "metadata": {}
  }
 ]
}
