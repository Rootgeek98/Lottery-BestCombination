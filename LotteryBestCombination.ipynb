{
 "metadata": {
  "name": "Untitled0-Copy1"
 },
 "nbformat": 3,
 "nbformat_minor": 0,
 "worksheets": [
  {
   "cells": [
    {
     "cell_type": "markdown",
     "metadata": {},
     "source": "<h1 align=\"center\">How to choose your lottery numbers ?\n<br/>\n![I don't always...](http://www.picresize.com/images/rsz_547b813455d3c.png)\n</h1>"
    },
    {
     "cell_type": "markdown",
     "metadata": {},
     "source": "*[The latest version of this IPython notebook is available at https://github.com/StephaneFeniar/Lottery-BestCombination]*\n\n# Overview\n\n### Goal\n\n\nIf you play at the lottery the same combination as many others players, you will have to split the prize in case of winning.\n\n\n\nThe goal of this analysis is to reduce this risk by playing the less played combination.\n\n### How ?\n\nThe idea is to analyze the results of the past draws: numbers drawn and proportion of winners \n\nEach result can ben seen as a tiny clue: if there is more winners than usual when the draw is [1-12-14-22-32], we can deduce this combination and similar ones are often played.\n### Context\n\nThis analysis has been inspired by [Using ML To Pick Your Lottery Numbers](http://nbviewer.ipython.org/url/www.onewinner.me/en/devoxxML.ipynb) of [C.Bourguignat](https://twitter.com/chris_bour)\n\nThe goal is the same *(reduce the probability to share the winnings)* but the approach is different.\n\n# Illustrative example\n\nAn introductive example explaining the methodology is available on [GitHub](https://github.com/StephaneFeniar/Lottery-BestCombination/blob/master/README.md)\n\nThis lecture is highly recommended if you're not familliar with [Using ML To Pick Your Lottery Numbers](http://nbviewer.ipython.org/url/www.onewinner.me/en/devoxxML.ipynb).\n\n# Application to a real lottery: EuroMillions\n![Let's pick the best numbers](http://i.imgur.com/bIOUoRB.png)\n\nEuromillions consist of picking 5 numbers among 50 + 2 stars among 10 stars.\n\n**We'll focus on the 5 numbers** in order to keep this analysis comparable to [Using ML To Pick Your Lottery Numbers](http://nbviewer.ipython.org/url/www.onewinner.me/en/devoxxML.ipynb).\n\n### 1. Data Import\n\nAfter each draw, the EuroMillions organizers communicate publicly the results:\n\n*  N1, N2, N3 , N4, N5 : 5 numbers of the draw *(in an ascending order)*\n*  Number of tickets on each winning rank:\n  + Rank1:   5 matches & 2  good stars\n  + Rank2:   5 matches & 1  good star\n  + Rank3:   5 matches & 0  good star\n  + Rank4:   4 matches & 2  good stars\n  + Rank5:   4 matches & 1  good star\n  + Rank6:   4 matches & 0  good star\n  + Rank7:   3 matches & 2  good stars\n  + Rank9:   3 matches & 1  good star\n  + Rank10:  3 matches & 0  good star\n  + Rank8:   2   matches & 2  good stars\n  + Rank12:  2   matches & 1  good star\n  + Rank11:  1  match & 2  good stars\n* Nb Tickets: total number of tickets played *(no matter the number of matches and/or good stars)*"
    },
    {
     "cell_type": "code",
     "collapsed": false,
     "input": "#Import modules\nimport pandas as pd\nimport numpy as np\nfrom itertools import combinations\nfrom time import clock\n\n# EuroMillions historical results\nDraws=pd.read_csv('C:/Users/sfeniar/Desktop/eurom/euromillions_results.csv',  sep=';')\n\nprint(Draws.head(5))",
     "language": "python",
     "metadata": {},
     "outputs": [
      {
       "output_type": "stream",
       "stream": "stdout",
       "text": "   DRAW_ID  N1  N2  N3  N4  N5  RANK1  RANK2  RANK3  RANK4  RANK5  RANK6  \\\n0      745   2  14  21  36  46      0      0      7     34    615   1215   \n1      744  13  25  32  38  46      2      3     13     43    976   2515   \n2      743   1   6  13  17  26      0      6     11     98   1334   2298   \n3      742  10  13  20  33  41      0      5     10     88   1619   3041   \n4      741  10  15  17  40  45      1      2      7     37    728   1488   \n\n   RANK7  RANK8  RANK9  RANK10  RANK11  RANK12  NB_TICKETS  \n0   1340  20089  27820   56355  109548  411040    20418538  \n1   1874  28407  41816  102769  151524  610112    33768050  \n2   3520  44519  50062   84941  206660  624396    22520918  \n3   4207  59447  65557  122853  287234  911202    37061903  \n4   1552  24674  32263   65960  128733  504141    23174733  \n\n[5 rows x 19 columns]\n"
      }
     ],
     "prompt_number": 10
    },
    {
     "cell_type": "markdown",
     "metadata": {},
     "source": "### 2. Data Preparation\n\nSince we decided to focus on the numbers and not on the stars, we need to aggregate all the ranks associated to the same level of correct numbers *(matches)*.\n\n**Problem:** the numbers of tickets per winning rank are not enough to compute the number of players with 2,1 or 0 match. \n\nFor instance we can't compute the total number of tickets with 2 matches without the number of tickets with 2 matches & 0 star *(unknown because no prize associated to this result)*.\n\nHopefully we can estimate these numbers by using the [Winning Probability](http://en.wikipedia.org/wiki/EuroMillions#Prize_structure):\n\n* 2   matches & 0 good star : can be estimated as twice the number of players in the Rank12 \n* 1   match & 1 good star : can be estimated as 18 times the number of players in the Rank11\n* 1   match & 0 good star : : can be estimated as 36 times the number of players in the Rank11 \n* 0   match (no matter the number of good star) : can be estimated as the total number of players - the number of player with at least 1 match.\n  \n*A better estimation mechanism could be used  ([See Next-Steps](https://github.com/StephaneFeniar/Lottery-BestCombination/blob/master/README.md#next-steps))*"
    },
    {
     "cell_type": "code",
     "collapsed": false,
     "input": "# Compute for each draw, the number of tickets for each number of matches\nDraws['NB_TICKETS_5_MATCHES'] = Draws['RANK1'] + Draws['RANK2'] + Draws['RANK3']\nDraws['NB_TICKETS_4_MATCHES'] = Draws['RANK4'] + Draws['RANK5'] + Draws['RANK6']\nDraws['NB_TICKETS_3_MATCHES'] = Draws['RANK7'] + Draws['RANK9'] + Draws['RANK10']\nDraws['NB_TICKETS_2_MATCHES'] = Draws['RANK8'] + Draws['RANK12'] + 2 * Draws['RANK12']\nDraws['NB_TICKETS_1_MATCH'] = Draws['RANK11'] + 18 * Draws['RANK11'] + 36 * Draws['RANK11']\nDraws['NB_TICKETS_0_MATCH'] = Draws['NB_TICKETS'] - Draws['NB_TICKETS_5_MATCHES'] - Draws['NB_TICKETS_4_MATCHES'] - Draws['NB_TICKETS_3_MATCHES'] -Draws['NB_TICKETS_2_MATCHES'] - Draws['NB_TICKETS_1_MATCH']\n\nDraws = Draws.drop(['RANK1','RANK2', 'RANK3','RANK4','RANK5','RANK6','RANK7',\n                    'RANK8','RANK9','RANK10','RANK11','RANK12'  ], axis=1)\n\n# Replace the numbers by frequencies in order to have comparable draws.\nDraws['FREQ_TICKETS_5_MATCHES']  = Draws['NB_TICKETS_5_MATCHES']  / Draws['NB_TICKETS'] \nDraws['FREQ_TICKETS_4_MATCHES']  = Draws['NB_TICKETS_4_MATCHES']  / Draws['NB_TICKETS'] \nDraws['FREQ_TICKETS_3_MATCHES']  = Draws['NB_TICKETS_3_MATCHES']  / Draws['NB_TICKETS'] \nDraws['FREQ_TICKETS_2_MATCHES']  = Draws['NB_TICKETS_2_MATCHES']  / Draws['NB_TICKETS'] \nDraws['FREQ_TICKETS_1_MATCH']  = Draws['NB_TICKETS_1_MATCH']  / Draws['NB_TICKETS'] \nDraws['FREQ_TICKETS_0_MATCH']  = Draws['NB_TICKETS_0_MATCH']  / Draws['NB_TICKETS'] \n\nDraws = Draws.drop(['NB_TICKETS_5_MATCHES', 'NB_TICKETS_4_MATCHES','NB_TICKETS_3_MATCHES',\n                    'NB_TICKETS_2_MATCHES','NB_TICKETS_1_MATCH','NB_TICKETS_0_MATCH'], axis=1)\n\nprint(Draws.head(5))",
     "language": "python",
     "metadata": {},
     "outputs": [
      {
       "ename": "KeyError",
       "evalue": "u'no item named RANK1'",
       "output_type": "pyerr",
       "traceback": [
        "\u001b[1;31m---------------------------------------------------------------------------\u001b[0m\n\u001b[1;31mKeyError\u001b[0m                                  Traceback (most recent call last)",
        "\u001b[1;32m<ipython-input-12-0925c73ca9f7>\u001b[0m in \u001b[0;36m<module>\u001b[1;34m()\u001b[0m\n\u001b[0;32m      1\u001b[0m \u001b[1;31m# Compute for each draw, the number of tickets for each number of matches\u001b[0m\u001b[1;33m\u001b[0m\u001b[1;33m\u001b[0m\u001b[0m\n\u001b[1;32m----> 2\u001b[1;33m \u001b[0mDraws\u001b[0m\u001b[1;33m[\u001b[0m\u001b[1;34m'NB_TICKETS_5_MATCHES'\u001b[0m\u001b[1;33m]\u001b[0m \u001b[1;33m=\u001b[0m \u001b[0mDraws\u001b[0m\u001b[1;33m[\u001b[0m\u001b[1;34m'RANK1'\u001b[0m\u001b[1;33m]\u001b[0m \u001b[1;33m+\u001b[0m \u001b[0mDraws\u001b[0m\u001b[1;33m[\u001b[0m\u001b[1;34m'RANK2'\u001b[0m\u001b[1;33m]\u001b[0m \u001b[1;33m+\u001b[0m \u001b[0mDraws\u001b[0m\u001b[1;33m[\u001b[0m\u001b[1;34m'RANK3'\u001b[0m\u001b[1;33m]\u001b[0m\u001b[1;33m\u001b[0m\u001b[0m\n\u001b[0m\u001b[0;32m      3\u001b[0m \u001b[0mDraws\u001b[0m\u001b[1;33m[\u001b[0m\u001b[1;34m'NB_TICKETS_4_MATCHES'\u001b[0m\u001b[1;33m]\u001b[0m \u001b[1;33m=\u001b[0m \u001b[0mDraws\u001b[0m\u001b[1;33m[\u001b[0m\u001b[1;34m'RANK4'\u001b[0m\u001b[1;33m]\u001b[0m \u001b[1;33m+\u001b[0m \u001b[0mDraws\u001b[0m\u001b[1;33m[\u001b[0m\u001b[1;34m'RANK5'\u001b[0m\u001b[1;33m]\u001b[0m \u001b[1;33m+\u001b[0m \u001b[0mDraws\u001b[0m\u001b[1;33m[\u001b[0m\u001b[1;34m'RANK6'\u001b[0m\u001b[1;33m]\u001b[0m\u001b[1;33m\u001b[0m\u001b[0m\n\u001b[0;32m      4\u001b[0m \u001b[0mDraws\u001b[0m\u001b[1;33m[\u001b[0m\u001b[1;34m'NB_TICKETS_3_MATCHES'\u001b[0m\u001b[1;33m]\u001b[0m \u001b[1;33m=\u001b[0m \u001b[0mDraws\u001b[0m\u001b[1;33m[\u001b[0m\u001b[1;34m'RANK7'\u001b[0m\u001b[1;33m]\u001b[0m \u001b[1;33m+\u001b[0m \u001b[0mDraws\u001b[0m\u001b[1;33m[\u001b[0m\u001b[1;34m'RANK9'\u001b[0m\u001b[1;33m]\u001b[0m \u001b[1;33m+\u001b[0m \u001b[0mDraws\u001b[0m\u001b[1;33m[\u001b[0m\u001b[1;34m'RANK10'\u001b[0m\u001b[1;33m]\u001b[0m\u001b[1;33m\u001b[0m\u001b[0m\n\u001b[0;32m      5\u001b[0m \u001b[0mDraws\u001b[0m\u001b[1;33m[\u001b[0m\u001b[1;34m'NB_TICKETS_2_MATCHES'\u001b[0m\u001b[1;33m]\u001b[0m \u001b[1;33m=\u001b[0m \u001b[0mDraws\u001b[0m\u001b[1;33m[\u001b[0m\u001b[1;34m'RANK8'\u001b[0m\u001b[1;33m]\u001b[0m \u001b[1;33m+\u001b[0m \u001b[0mDraws\u001b[0m\u001b[1;33m[\u001b[0m\u001b[1;34m'RANK12'\u001b[0m\u001b[1;33m]\u001b[0m \u001b[1;33m+\u001b[0m \u001b[1;36m2\u001b[0m \u001b[1;33m*\u001b[0m \u001b[0mDraws\u001b[0m\u001b[1;33m[\u001b[0m\u001b[1;34m'RANK12'\u001b[0m\u001b[1;33m]\u001b[0m\u001b[1;33m\u001b[0m\u001b[0m\n",
        "\u001b[1;32mC:\\Python27\\lib\\site-packages\\pandas\\core\\frame.pyc\u001b[0m in \u001b[0;36m__getitem__\u001b[1;34m(self, key)\u001b[0m\n\u001b[0;32m   1656\u001b[0m             \u001b[1;32mreturn\u001b[0m \u001b[0mself\u001b[0m\u001b[1;33m.\u001b[0m\u001b[0m_getitem_multilevel\u001b[0m\u001b[1;33m(\u001b[0m\u001b[0mkey\u001b[0m\u001b[1;33m)\u001b[0m\u001b[1;33m\u001b[0m\u001b[0m\n\u001b[0;32m   1657\u001b[0m         \u001b[1;32melse\u001b[0m\u001b[1;33m:\u001b[0m\u001b[1;33m\u001b[0m\u001b[0m\n\u001b[1;32m-> 1658\u001b[1;33m             \u001b[1;32mreturn\u001b[0m \u001b[0mself\u001b[0m\u001b[1;33m.\u001b[0m\u001b[0m_getitem_column\u001b[0m\u001b[1;33m(\u001b[0m\u001b[0mkey\u001b[0m\u001b[1;33m)\u001b[0m\u001b[1;33m\u001b[0m\u001b[0m\n\u001b[0m\u001b[0;32m   1659\u001b[0m \u001b[1;33m\u001b[0m\u001b[0m\n\u001b[0;32m   1660\u001b[0m     \u001b[1;32mdef\u001b[0m \u001b[0m_getitem_column\u001b[0m\u001b[1;33m(\u001b[0m\u001b[0mself\u001b[0m\u001b[1;33m,\u001b[0m \u001b[0mkey\u001b[0m\u001b[1;33m)\u001b[0m\u001b[1;33m:\u001b[0m\u001b[1;33m\u001b[0m\u001b[0m\n",
        "\u001b[1;32mC:\\Python27\\lib\\site-packages\\pandas\\core\\frame.pyc\u001b[0m in \u001b[0;36m_getitem_column\u001b[1;34m(self, key)\u001b[0m\n\u001b[0;32m   1663\u001b[0m         \u001b[1;31m# get column\u001b[0m\u001b[1;33m\u001b[0m\u001b[1;33m\u001b[0m\u001b[0m\n\u001b[0;32m   1664\u001b[0m         \u001b[1;32mif\u001b[0m \u001b[0mself\u001b[0m\u001b[1;33m.\u001b[0m\u001b[0mcolumns\u001b[0m\u001b[1;33m.\u001b[0m\u001b[0mis_unique\u001b[0m\u001b[1;33m:\u001b[0m\u001b[1;33m\u001b[0m\u001b[0m\n\u001b[1;32m-> 1665\u001b[1;33m             \u001b[1;32mreturn\u001b[0m \u001b[0mself\u001b[0m\u001b[1;33m.\u001b[0m\u001b[0m_get_item_cache\u001b[0m\u001b[1;33m(\u001b[0m\u001b[0mkey\u001b[0m\u001b[1;33m)\u001b[0m\u001b[1;33m\u001b[0m\u001b[0m\n\u001b[0m\u001b[0;32m   1666\u001b[0m \u001b[1;33m\u001b[0m\u001b[0m\n\u001b[0;32m   1667\u001b[0m         \u001b[1;31m# duplicate columns & possible reduce dimensionaility\u001b[0m\u001b[1;33m\u001b[0m\u001b[1;33m\u001b[0m\u001b[0m\n",
        "\u001b[1;32mC:\\Python27\\lib\\site-packages\\pandas\\core\\generic.pyc\u001b[0m in \u001b[0;36m_get_item_cache\u001b[1;34m(self, item)\u001b[0m\n\u001b[0;32m   1003\u001b[0m         \u001b[0mres\u001b[0m \u001b[1;33m=\u001b[0m \u001b[0mcache\u001b[0m\u001b[1;33m.\u001b[0m\u001b[0mget\u001b[0m\u001b[1;33m(\u001b[0m\u001b[0mitem\u001b[0m\u001b[1;33m)\u001b[0m\u001b[1;33m\u001b[0m\u001b[0m\n\u001b[0;32m   1004\u001b[0m         \u001b[1;32mif\u001b[0m \u001b[0mres\u001b[0m \u001b[1;32mis\u001b[0m \u001b[0mNone\u001b[0m\u001b[1;33m:\u001b[0m\u001b[1;33m\u001b[0m\u001b[0m\n\u001b[1;32m-> 1005\u001b[1;33m             \u001b[0mvalues\u001b[0m \u001b[1;33m=\u001b[0m \u001b[0mself\u001b[0m\u001b[1;33m.\u001b[0m\u001b[0m_data\u001b[0m\u001b[1;33m.\u001b[0m\u001b[0mget\u001b[0m\u001b[1;33m(\u001b[0m\u001b[0mitem\u001b[0m\u001b[1;33m)\u001b[0m\u001b[1;33m\u001b[0m\u001b[0m\n\u001b[0m\u001b[0;32m   1006\u001b[0m             \u001b[0mres\u001b[0m \u001b[1;33m=\u001b[0m \u001b[0mself\u001b[0m\u001b[1;33m.\u001b[0m\u001b[0m_box_item_values\u001b[0m\u001b[1;33m(\u001b[0m\u001b[0mitem\u001b[0m\u001b[1;33m,\u001b[0m \u001b[0mvalues\u001b[0m\u001b[1;33m)\u001b[0m\u001b[1;33m\u001b[0m\u001b[0m\n\u001b[0;32m   1007\u001b[0m             \u001b[0mcache\u001b[0m\u001b[1;33m[\u001b[0m\u001b[0mitem\u001b[0m\u001b[1;33m]\u001b[0m \u001b[1;33m=\u001b[0m \u001b[0mres\u001b[0m\u001b[1;33m\u001b[0m\u001b[0m\n",
        "\u001b[1;32mC:\\Python27\\lib\\site-packages\\pandas\\core\\internals.pyc\u001b[0m in \u001b[0;36mget\u001b[1;34m(self, item)\u001b[0m\n\u001b[0;32m   2871\u001b[0m                 \u001b[1;32mreturn\u001b[0m \u001b[0mself\u001b[0m\u001b[1;33m.\u001b[0m\u001b[0mget_for_nan_indexer\u001b[0m\u001b[1;33m(\u001b[0m\u001b[0mindexer\u001b[0m\u001b[1;33m)\u001b[0m\u001b[1;33m\u001b[0m\u001b[0m\n\u001b[0;32m   2872\u001b[0m \u001b[1;33m\u001b[0m\u001b[0m\n\u001b[1;32m-> 2873\u001b[1;33m             \u001b[0m_\u001b[0m\u001b[1;33m,\u001b[0m \u001b[0mblock\u001b[0m \u001b[1;33m=\u001b[0m \u001b[0mself\u001b[0m\u001b[1;33m.\u001b[0m\u001b[0m_find_block\u001b[0m\u001b[1;33m(\u001b[0m\u001b[0mitem\u001b[0m\u001b[1;33m)\u001b[0m\u001b[1;33m\u001b[0m\u001b[0m\n\u001b[0m\u001b[0;32m   2874\u001b[0m             \u001b[1;32mreturn\u001b[0m \u001b[0mblock\u001b[0m\u001b[1;33m.\u001b[0m\u001b[0mget\u001b[0m\u001b[1;33m(\u001b[0m\u001b[0mitem\u001b[0m\u001b[1;33m)\u001b[0m\u001b[1;33m\u001b[0m\u001b[0m\n\u001b[0;32m   2875\u001b[0m         \u001b[1;32melse\u001b[0m\u001b[1;33m:\u001b[0m\u001b[1;33m\u001b[0m\u001b[0m\n",
        "\u001b[1;32mC:\\Python27\\lib\\site-packages\\pandas\\core\\internals.pyc\u001b[0m in \u001b[0;36m_find_block\u001b[1;34m(self, item)\u001b[0m\n\u001b[0;32m   3183\u001b[0m \u001b[1;33m\u001b[0m\u001b[0m\n\u001b[0;32m   3184\u001b[0m     \u001b[1;32mdef\u001b[0m \u001b[0m_find_block\u001b[0m\u001b[1;33m(\u001b[0m\u001b[0mself\u001b[0m\u001b[1;33m,\u001b[0m \u001b[0mitem\u001b[0m\u001b[1;33m)\u001b[0m\u001b[1;33m:\u001b[0m\u001b[1;33m\u001b[0m\u001b[0m\n\u001b[1;32m-> 3185\u001b[1;33m         \u001b[0mself\u001b[0m\u001b[1;33m.\u001b[0m\u001b[0m_check_have\u001b[0m\u001b[1;33m(\u001b[0m\u001b[0mitem\u001b[0m\u001b[1;33m)\u001b[0m\u001b[1;33m\u001b[0m\u001b[0m\n\u001b[0m\u001b[0;32m   3186\u001b[0m         \u001b[1;32mfor\u001b[0m \u001b[0mi\u001b[0m\u001b[1;33m,\u001b[0m \u001b[0mblock\u001b[0m \u001b[1;32min\u001b[0m \u001b[0menumerate\u001b[0m\u001b[1;33m(\u001b[0m\u001b[0mself\u001b[0m\u001b[1;33m.\u001b[0m\u001b[0mblocks\u001b[0m\u001b[1;33m)\u001b[0m\u001b[1;33m:\u001b[0m\u001b[1;33m\u001b[0m\u001b[0m\n\u001b[0;32m   3187\u001b[0m             \u001b[1;32mif\u001b[0m \u001b[0mitem\u001b[0m \u001b[1;32min\u001b[0m \u001b[0mblock\u001b[0m\u001b[1;33m:\u001b[0m\u001b[1;33m\u001b[0m\u001b[0m\n",
        "\u001b[1;32mC:\\Python27\\lib\\site-packages\\pandas\\core\\internals.pyc\u001b[0m in \u001b[0;36m_check_have\u001b[1;34m(self, item)\u001b[0m\n\u001b[0;32m   3190\u001b[0m     \u001b[1;32mdef\u001b[0m \u001b[0m_check_have\u001b[0m\u001b[1;33m(\u001b[0m\u001b[0mself\u001b[0m\u001b[1;33m,\u001b[0m \u001b[0mitem\u001b[0m\u001b[1;33m)\u001b[0m\u001b[1;33m:\u001b[0m\u001b[1;33m\u001b[0m\u001b[0m\n\u001b[0;32m   3191\u001b[0m         \u001b[1;32mif\u001b[0m \u001b[0mitem\u001b[0m \u001b[1;32mnot\u001b[0m \u001b[1;32min\u001b[0m \u001b[0mself\u001b[0m\u001b[1;33m.\u001b[0m\u001b[0mitems\u001b[0m\u001b[1;33m:\u001b[0m\u001b[1;33m\u001b[0m\u001b[0m\n\u001b[1;32m-> 3192\u001b[1;33m             \u001b[1;32mraise\u001b[0m \u001b[0mKeyError\u001b[0m\u001b[1;33m(\u001b[0m\u001b[1;34m'no item named %s'\u001b[0m \u001b[1;33m%\u001b[0m \u001b[0mcom\u001b[0m\u001b[1;33m.\u001b[0m\u001b[0mpprint_thing\u001b[0m\u001b[1;33m(\u001b[0m\u001b[0mitem\u001b[0m\u001b[1;33m)\u001b[0m\u001b[1;33m)\u001b[0m\u001b[1;33m\u001b[0m\u001b[0m\n\u001b[0m\u001b[0;32m   3193\u001b[0m \u001b[1;33m\u001b[0m\u001b[0m\n\u001b[0;32m   3194\u001b[0m     def reindex_axis(self, new_axis, indexer=None, method=None, axis=0,\n",
        "\u001b[1;31mKeyError\u001b[0m: u'no item named RANK1'"
       ]
      }
     ],
     "prompt_number": 12
    },
    {
     "cell_type": "markdown",
     "metadata": {},
     "source": "### 3. Compute the number of matches between each Draw and each Combination\nBefore estimating the playing frequency of each combination, we need to compute the number of mach between each draw and each combination."
    },
    {
     "cell_type": "code",
     "collapsed": false,
     "input": "#function qui nous fait galerer \u00e0 mettre ici",
     "language": "python",
     "metadata": {},
     "outputs": [],
     "prompt_number": 11
    },
    {
     "cell_type": "markdown",
     "metadata": {},
     "source": "### 4. Estimations of the playing frequency of each combination\n\nNow we know for each draw:\n\n* the frequency of tickets with 0, 1, 2, 3, 4, 5 matches\n* the number of matches with all the 2 1180 000 possible combinations\n\nFor estimating the playing frequency of each combination we need to split the frequency of tickets with **m** matches to all the combinations having **m** matches with the draw.\n\nNo matter the draw, the number of combination with m matched  = $\\binom{45}{5-m} \\times \\binom{m}{5}$\n\n\nThen we know for each draw there is:\n\n* 1 combination having 5 matches \n* 225 combinations having 4  matches \n* 9 900 combinations having 3 matches \n* 141 900 combinations having 2 matches \n* 749 975 combinations having 1 match \n* 1 221 759 combinations having 0 match\n\nSo for each draw we will estimated the:\n\n*  Playing frequency of each combination with 0 match = Frequency of tickets with 0 match / 1221759 \n*  Playing frequency of each combination with 1 match = Frequency of tickets with 1 match / 749975\n*  Playing frequency of each combination with 2 matches = Frequency of tickets with 2 matches / 141900\n*  Playing frequency of each combination with 3 matches = Frequency of tickets with 3 matches / 9900\n*  Playing frequency of each combination with 4 matches = Frequency of tickets with 4 matches / 225\n*  Playing frequency of each combination with 5 matches = Frequency of tickets with 5 matches / 1"
    },
    {
     "cell_type": "code",
     "collapsed": false,
     "input": "# Divide the frequency of tickets with m matches by the number combinations having m matches \nDraws['FREQ_COMB_0']  = Draws['FREQ_TICKETS_0_MATCH']  / 1221759 \nDraws['FREQ_COMB_1']  = Draws['FREQ_TICKETS_1_MATCH']  / 744975 \nDraws['FREQ_COMB_2']  = Draws['FREQ_TICKETS_2_MATCHES']  / 141900\nDraws['FREQ_COMB_3']  = Draws['FREQ_TICKETS_3_MATCHES']  / 9900\nDraws['FREQ_COMB_4']  = Draws['FREQ_TICKETS_4_MATCHES']  / 225\nDraws['FREQ_COMB_5']  = Draws['FREQ_TICKETS_5_MATCHES']  / 1\n\n#Draws = Draws.drop(['FREQ_TICKETS_0_MATCH', 'FREQ_TICKETS_1_MATCH','FREQ_TICKETS_2_MATCHES',\n#                    'FREQ_TICKETS_3_MATCHES','FREQ_TICKETS_4_MATCHES','FREQ_TICKETS_5_MATCHES'], axis=1)\n\n\nDraws = array(Draws)\n\n#Rajouter la fonction qui va chercher freq8comb en fonction du nombre de match\n\n# apres avoir calcules les estimateursMETTRE EXEMPLE DU TYPE\n# LE TIRAGE 320 a eu 10% tickets \u00e0 bon numeros.\n# Or on sait que 141 900 COMBINAISONS ONT 2 bon numeros avec ce tirage.\n# Donc ce tirage estime que chacune de ces combinaisons \u00e0 une frequence de jeu de 0.00035%",
     "language": "python",
     "metadata": {},
     "outputs": [
      {
       "ename": "NameError",
       "evalue": "name 'Draws' is not defined",
       "output_type": "pyerr",
       "traceback": [
        "\u001b[1;31m---------------------------------------------------------------------------\u001b[0m\n\u001b[1;31mNameError\u001b[0m                                 Traceback (most recent call last)",
        "\u001b[1;32m<ipython-input-6-c61ff137cbc4>\u001b[0m in \u001b[0;36m<module>\u001b[1;34m()\u001b[0m\n\u001b[0;32m      1\u001b[0m \u001b[1;31m# Divide the frequency of tickets with m matches by the number combinations having m matches\u001b[0m\u001b[1;33m\u001b[0m\u001b[1;33m\u001b[0m\u001b[0m\n\u001b[1;32m----> 2\u001b[1;33m \u001b[0mDraws\u001b[0m\u001b[1;33m[\u001b[0m\u001b[1;34m'FREQ_COMB_0'\u001b[0m\u001b[1;33m]\u001b[0m  \u001b[1;33m=\u001b[0m \u001b[0mDraws\u001b[0m\u001b[1;33m[\u001b[0m\u001b[1;34m'FREQ_TICKETS_0_MATCH'\u001b[0m\u001b[1;33m]\u001b[0m  \u001b[1;33m/\u001b[0m \u001b[1;36m1221759\u001b[0m\u001b[1;33m\u001b[0m\u001b[0m\n\u001b[0m\u001b[0;32m      3\u001b[0m \u001b[0mDraws\u001b[0m\u001b[1;33m[\u001b[0m\u001b[1;34m'FREQ_COMB_1'\u001b[0m\u001b[1;33m]\u001b[0m  \u001b[1;33m=\u001b[0m \u001b[0mDraws\u001b[0m\u001b[1;33m[\u001b[0m\u001b[1;34m'FREQ_TICKETS_1_MATCH'\u001b[0m\u001b[1;33m]\u001b[0m  \u001b[1;33m/\u001b[0m \u001b[1;36m744975\u001b[0m\u001b[1;33m\u001b[0m\u001b[0m\n\u001b[0;32m      4\u001b[0m \u001b[0mDraws\u001b[0m\u001b[1;33m[\u001b[0m\u001b[1;34m'FREQ_COMB_2'\u001b[0m\u001b[1;33m]\u001b[0m  \u001b[1;33m=\u001b[0m \u001b[0mDraws\u001b[0m\u001b[1;33m[\u001b[0m\u001b[1;34m'FREQ_TICKETS_2_MATCHES'\u001b[0m\u001b[1;33m]\u001b[0m  \u001b[1;33m/\u001b[0m \u001b[1;36m141900\u001b[0m\u001b[1;33m\u001b[0m\u001b[0m\n\u001b[0;32m      5\u001b[0m \u001b[0mDraws\u001b[0m\u001b[1;33m[\u001b[0m\u001b[1;34m'FREQ_COMB_3'\u001b[0m\u001b[1;33m]\u001b[0m  \u001b[1;33m=\u001b[0m \u001b[0mDraws\u001b[0m\u001b[1;33m[\u001b[0m\u001b[1;34m'FREQ_TICKETS_3_MATCHES'\u001b[0m\u001b[1;33m]\u001b[0m  \u001b[1;33m/\u001b[0m \u001b[1;36m9900\u001b[0m\u001b[1;33m\u001b[0m\u001b[0m\n",
        "\u001b[1;31mNameError\u001b[0m: name 'Draws' is not defined"
       ]
      }
     ],
     "prompt_number": 6
    },
    {
     "cell_type": "markdown",
     "metadata": {},
     "source": "### 4. Aggregation of the estimations\n\nEach of the 745 draws gives an estimated playing frequency for each combination.\nLet's aggregate these 745 estimators into a stronger one like a RandomForest aggregates trees.\n\nThere are a several way to aggregate these 745 estimators *([See Next-Steps](https://github.com/StephaneFeniar/Lottery-BestCombination/blob/master/README.md#next-steps))*  but here we will do it them by a simple mean.\n"
    },
    {
     "cell_type": "code",
     "collapsed": false,
     "input": "#Code de l'aggregation",
     "language": "python",
     "metadata": {},
     "outputs": []
    },
    {
     "cell_type": "markdown",
     "metadata": {},
     "source": "### 5. Results analysis"
    },
    {
     "cell_type": "markdown",
     "metadata": {},
     "source": "Let's take a look at the more played and less played combinations."
    },
    {
     "cell_type": "code",
     "collapsed": false,
     "input": "# mettre code top 10 et bottom 10 etmettre une joli viz avec histogramem et intervalle de confiance",
     "language": "python",
     "metadata": {},
     "outputs": [],
     "prompt_number": 7
    },
    {
     "cell_type": "markdown",
     "metadata": {},
     "source": "So playing [1-12-14-22-32] instead of [1-12-14-22-32] reduce the risk of sharing the winning by x% !"
    },
    {
     "cell_type": "markdown",
     "metadata": {},
     "source": "# Conclusion & Next Steps\n\n**This simple analysis** identifies the less played combination *[1-12-14-22-32]* and **reduces the risk of sharing the winning up to x%!**\n\nWe could go further by :\n\n*  **Improving the way to aggregate the estimations.** \n<br/>Exemple: if a combination has 5 matches with a draw, we should only keep the estimation associated to this draw.\n\n\n*  **Performing the analysis in a recursive way:**\n  1. Do the analysis like we did and recover an estimated  playing frequency for each combination.\n  2. Re-do the analysis by using this distribution instead of an equal distribution for improving the way to \"split the frequency of tickets with m matches to all the combinations having m matches\" \n\n*  **Improving the approach by optimizing the global expected winnings.**\n<br/> Instead of just reduce the risk of sharing the big prize, we could reduce the risk of sharing all prizes, *i.e* searching a combination which is rarely played and doesn't shared a lots of numbers with most played combinations.\n"
    }
   ],
   "metadata": {}
  }
 ]
}
